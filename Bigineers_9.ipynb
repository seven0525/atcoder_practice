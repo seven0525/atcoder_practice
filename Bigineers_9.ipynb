{
 "cells": [
  {
   "cell_type": "code",
   "execution_count": 1,
   "metadata": {},
   "outputs": [],
   "source": [
    "# n=int(input())\n",
    "# a=list(map(int,input().split()))\n",
    "# b=list(map(int,input().split()))\n",
    "\n",
    "# A,B,C,D = map(int, input().split())\n",
    "# a = []\n",
    "# for i in range(N):\n",
    "#     a.append((input()))"
   ]
  },
  {
   "cell_type": "code",
   "execution_count": 2,
   "metadata": {},
   "outputs": [
    {
     "name": "stdout",
     "output_type": "stream",
     "text": [
      "RSS\n",
      "RSR\n",
      "2\n"
     ]
    }
   ],
   "source": [
    "n = list(input())\n",
    "s = list(input())\n",
    "\n",
    "count = 0\n",
    "for i in range(3):\n",
    "    if n[i] == s[i]:\n",
    "        count += 1\n",
    "    \n",
    "print(count)"
   ]
  },
  {
   "cell_type": "code",
   "execution_count": 9,
   "metadata": {},
   "outputs": [
    {
     "name": "stdout",
     "output_type": "stream",
     "text": [
      "2 20\n",
      "19\n"
     ]
    }
   ],
   "source": [
    "A,B = map(int, input().split())\n",
    "if B == 1:\n",
    "    print(0)\n",
    "else:\n",
    "    count = 1\n",
    "    d = A #未使用\n",
    "\n",
    "    while d < B:\n",
    "        count += 1\n",
    "        d += (A -1)\n",
    "\n",
    "    print(count)"
   ]
  },
  {
   "cell_type": "code",
   "execution_count": 109,
   "metadata": {},
   "outputs": [
    {
     "name": "stdout",
     "output_type": "stream",
     "text": [
      "4\n",
      "4 3 2 1\n"
     ]
    }
   ],
   "source": [
    "n = int(input())\n",
    "a = list(map(int,input().split()))"
   ]
  },
  {
   "cell_type": "code",
   "execution_count": 110,
   "metadata": {},
   "outputs": [
    {
     "name": "stdout",
     "output_type": "stream",
     "text": [
      "3\n"
     ]
    }
   ],
   "source": [
    "def start(num, count):\n",
    "    if num == n-1:\n",
    "        counts.append(count)\n",
    "        return\n",
    "    else:\n",
    "        if a[num] >= a[num +1]:\n",
    "            num += 1\n",
    "            count += 1\n",
    "            start(num, count)\n",
    "        else:\n",
    "            counts.append(count)\n",
    "            num += 1\n",
    "            start(num, 0)\n",
    "\n",
    "counts = [0]\n",
    "ans = start(0,0)\n",
    "print(max(counts))"
   ]
  },
  {
   "cell_type": "code",
   "execution_count": 100,
   "metadata": {},
   "outputs": [],
   "source": [
    "ans"
   ]
  },
  {
   "cell_type": "code",
   "execution_count": 90,
   "metadata": {},
   "outputs": [
    {
     "name": "stdout",
     "output_type": "stream",
     "text": [
      "6\n"
     ]
    }
   ],
   "source": [
    "n_2 = int(input())"
   ]
  },
  {
   "cell_type": "code",
   "execution_count": null,
   "metadata": {},
   "outputs": [],
   "source": []
  },
  {
   "cell_type": "code",
   "execution_count": 91,
   "metadata": {},
   "outputs": [
    {
     "name": "stdout",
     "output_type": "stream",
     "text": [
      "15\n"
     ]
    }
   ],
   "source": [
    "c = 0\n",
    "ans = n_2 +1\n",
    "anss = ans * (n_2 /2)\n",
    "\n",
    "if int(anss - n_2) >= 0:\n",
    "    print(int(anss - n_2))\n",
    "else:\n",
    "    print(0)"
   ]
  },
  {
   "cell_type": "code",
   "execution_count": null,
   "metadata": {},
   "outputs": [],
   "source": []
  }
 ],
 "metadata": {
  "kernelspec": {
   "display_name": "Python 3",
   "language": "python",
   "name": "python3"
  },
  "language_info": {
   "codemirror_mode": {
    "name": "ipython",
    "version": 3
   },
   "file_extension": ".py",
   "mimetype": "text/x-python",
   "name": "python",
   "nbconvert_exporter": "python",
   "pygments_lexer": "ipython3",
   "version": "3.6.4"
  }
 },
 "nbformat": 4,
 "nbformat_minor": 2
}
