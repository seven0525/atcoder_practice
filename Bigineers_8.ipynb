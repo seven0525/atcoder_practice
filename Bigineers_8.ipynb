{
 "cells": [
  {
   "cell_type": "code",
   "execution_count": 1,
   "metadata": {},
   "outputs": [],
   "source": [
    "# n=int(input())\n",
    "# a=list(map(int,input().split()))\n",
    "# b=list(map(int,input().split()))\n",
    "\n",
    "# A,B,C,D = map(int, input().split())\n",
    "# a = []\n",
    "# for i in range(N):\n",
    "#     a.append((input()))"
   ]
  },
  {
   "cell_type": "code",
   "execution_count": 7,
   "metadata": {},
   "outputs": [
    {
     "name": "stdout",
     "output_type": "stream",
     "text": [
      "2\n",
      "10 30\n"
     ]
    }
   ],
   "source": [
    "n = int(input())\n",
    "numbers = list(map(int,input().split()))\n"
   ]
  },
  {
   "cell_type": "code",
   "execution_count": 16,
   "metadata": {},
   "outputs": [
    {
     "name": "stdout",
     "output_type": "stream",
     "text": [
      "7.5\n"
     ]
    }
   ],
   "source": [
    "from fractions import Fraction\n",
    "def inverse(f):\n",
    "    return Fraction(f.denominator,f.numerator)\n",
    "\n",
    "aaa = []\n",
    "for i in numbers:\n",
    "    b = Fraction(1,i)\n",
    "    aaa.append(b)\n",
    "\n",
    "ans = inverse(sum(aaa))\n",
    "\n",
    "print(float(ans))"
   ]
  },
  {
   "cell_type": "code",
   "execution_count": null,
   "metadata": {},
   "outputs": [],
   "source": []
  },
  {
   "cell_type": "code",
   "execution_count": null,
   "metadata": {},
   "outputs": [],
   "source": []
  },
  {
   "cell_type": "markdown",
   "metadata": {},
   "source": [
    "# C - Alchemist\n",
    "https://atcoder.jp/contests/abc138/tasks/abc138_c"
   ]
  },
  {
   "cell_type": "code",
   "execution_count": 214,
   "metadata": {},
   "outputs": [
    {
     "name": "stdout",
     "output_type": "stream",
     "text": [
      "3\n",
      "500 300 200\n",
      "375.0\n"
     ]
    }
   ],
   "source": [
    "n = int(input())\n",
    "numbers = list(map(int,input().split()))\n",
    " \n",
    "def aaa(numbers):\n",
    "    if len(numbers) > 1:\n",
    "        numbers.sort()\n",
    "        new_number = (numbers[0] + numbers[1]) / 2\n",
    "        n_0 = numbers[0]\n",
    "        n_1 = numbers[1]\n",
    "        numbers.remove(n_0)\n",
    "        numbers.remove(n_1)\n",
    "        numbers.append(new_number)\n",
    "        aaa(numbers)\n",
    "    else:\n",
    "        return numbers[0]\n",
    "      \n",
    "aaa(numbers)\n",
    "print(aaa(numbers))\n"
   ]
  },
  {
   "cell_type": "code",
   "execution_count": null,
   "metadata": {},
   "outputs": [],
   "source": []
  },
  {
   "cell_type": "code",
   "execution_count": null,
   "metadata": {},
   "outputs": [],
   "source": []
  },
  {
   "cell_type": "code",
   "execution_count": null,
   "metadata": {},
   "outputs": [],
   "source": []
  },
  {
   "cell_type": "code",
   "execution_count": null,
   "metadata": {},
   "outputs": [],
   "source": []
  },
  {
   "cell_type": "code",
   "execution_count": 68,
   "metadata": {},
   "outputs": [
    {
     "name": "stdout",
     "output_type": "stream",
     "text": [
      "5\n",
      "138 138 138 138 138\n",
      "138.0\n"
     ]
    }
   ],
   "source": [
    "n = int(input())\n",
    "numbers = list(map(int,input().split()))\n",
    " \n",
    "def aaa(numbers):\n",
    "    if len(numbers) > 1:\n",
    "        numbers.sort()\n",
    "        new_number = (numbers[0] + numbers[1]) / 2\n",
    "        n_0 = numbers[0]\n",
    "        n_1 = numbers[1]\n",
    "        numbers.remove(n_0)\n",
    "        numbers.remove(n_1)\n",
    "        numbers.append(new_number)\n",
    "        aaa(numbers)\n",
    "    else:\n",
    "        return numbers[0]\n",
    "      \n",
    "aaa(numbers)\n",
    "print(aaa(numbers))\n"
   ]
  },
  {
   "cell_type": "code",
   "execution_count": null,
   "metadata": {},
   "outputs": [],
   "source": []
  },
  {
   "cell_type": "code",
   "execution_count": null,
   "metadata": {},
   "outputs": [],
   "source": []
  },
  {
   "cell_type": "code",
   "execution_count": null,
   "metadata": {},
   "outputs": [],
   "source": []
  },
  {
   "cell_type": "code",
   "execution_count": null,
   "metadata": {},
   "outputs": [],
   "source": []
  },
  {
   "cell_type": "code",
   "execution_count": null,
   "metadata": {},
   "outputs": [],
   "source": []
  },
  {
   "cell_type": "code",
   "execution_count": null,
   "metadata": {},
   "outputs": [],
   "source": []
  },
  {
   "cell_type": "code",
   "execution_count": null,
   "metadata": {},
   "outputs": [],
   "source": []
  },
  {
   "cell_type": "code",
   "execution_count": null,
   "metadata": {},
   "outputs": [],
   "source": []
  },
  {
   "cell_type": "markdown",
   "metadata": {},
   "source": [
    "# D - Ki\n",
    "https://atcoder.jp/contests/abc138/tasks/abc138_d"
   ]
  },
  {
   "cell_type": "code",
   "execution_count": 207,
   "metadata": {},
   "outputs": [
    {
     "name": "stdout",
     "output_type": "stream",
     "text": [
      "4 3\n",
      "1 2\n",
      "2 3\n",
      "2 4\n",
      "2 10\n",
      "1 100\n",
      "3 1\n",
      "100 110 111 110\n"
     ]
    }
   ],
   "source": [
    "n,q = map(int, input().split())\n",
    "a = []\n",
    "for i in range(n-1):\n",
    "    a.append((input()))\n",
    "b = []\n",
    "for j in range(q):\n",
    "    b.append((input()))\n",
    "    \n",
    "aws = []\n",
    "for k in range(n):\n",
    "    aws.append(0)\n",
    "    \n",
    "def tree(t_num,point):\n",
    "    aws[t_num - 1] +=  point\n",
    "    for an in a:\n",
    "        if t_num == int(an.split()[0]):\n",
    "            tree(int(an.split()[1]),point)\n",
    "            \n",
    "for bn in b:\n",
    "    t_num = int(bn.split()[0])\n",
    "    point = int(bn.split()[1])\n",
    "    tree(t_num,point)\n",
    "    \n",
    "aws_2 = []\n",
    "for h in aws:\n",
    "    str_h = str(h)\n",
    "    aws_2.append(str_h)\n",
    "    \n",
    "for o in aws:\n",
    "    print(o, end=\" \")"
   ]
  },
  {
   "cell_type": "code",
   "execution_count": 213,
   "metadata": {},
   "outputs": [
    {
     "name": "stdout",
     "output_type": "stream",
     "text": [
      "100 110 111 110 "
     ]
    }
   ],
   "source": [
    "for o in aws:\n",
    "    print(o, end=\" \")"
   ]
  },
  {
   "cell_type": "code",
   "execution_count": null,
   "metadata": {},
   "outputs": [],
   "source": []
  },
  {
   "cell_type": "code",
   "execution_count": null,
   "metadata": {},
   "outputs": [],
   "source": []
  }
 ],
 "metadata": {
  "kernelspec": {
   "display_name": "Python 3",
   "language": "python",
   "name": "python3"
  },
  "language_info": {
   "codemirror_mode": {
    "name": "ipython",
    "version": 3
   },
   "file_extension": ".py",
   "mimetype": "text/x-python",
   "name": "python",
   "nbconvert_exporter": "python",
   "pygments_lexer": "ipython3",
   "version": "3.6.4"
  }
 },
 "nbformat": 4,
 "nbformat_minor": 2
}
