{
 "cells": [
  {
   "cell_type": "markdown",
   "metadata": {},
   "source": [
    "# 視程の通報\n",
    "https://atcoder.jp/contests/abc001/tasks/abc001_2"
   ]
  },
  {
   "cell_type": "code",
   "execution_count": 3,
   "metadata": {},
   "outputs": [
    {
     "name": "stdout",
     "output_type": "stream",
     "text": [
      "15000\n",
      "65\n"
     ]
    }
   ],
   "source": [
    "m = int(input())\n",
    "km = m / 1000\n",
    " \n",
    "if km < 0.1:\n",
    "    w = \"00\"\n",
    "elif 0.1 <= km <= 5:\n",
    "    w = int(km * 10)\n",
    "    if w < 10:\n",
    "        w = \"0\"+str(w)\n",
    "elif 6 <= km <= 30:\n",
    "    w = int(km + 50)\n",
    "elif 35 <= km <= 70:\n",
    "    w = int((km - 30) / 5 + 80)\n",
    "elif 70 < km:\n",
    "    w = 89\n",
    "\n",
    "print(w)"
   ]
  },
  {
   "cell_type": "markdown",
   "metadata": {},
   "source": [
    "# 投票\n",
    "https://atcoder.jp/contests/abc008/tasks/abc008_2"
   ]
  },
  {
   "cell_type": "code",
   "execution_count": 6,
   "metadata": {},
   "outputs": [
    {
     "name": "stdout",
     "output_type": "stream",
     "text": [
      "9\n",
      "a\n",
      "b\n",
      "a\n",
      "a\n",
      "a\n",
      "c\n",
      "a\n",
      "c\n",
      "a\n",
      "a\n"
     ]
    }
   ],
   "source": [
    "from collections import Counter\n",
    "\n",
    "N = int(input())\n",
    "\n",
    "a = []\n",
    "for i in range(N):\n",
    "    a.append((input()))\n",
    "    \n",
    "counter = Counter(a)\n",
    "\n",
    "print(counter.most_common()[0][0])"
   ]
  },
  {
   "cell_type": "markdown",
   "metadata": {},
   "source": [
    "# バグの発見（わからなかった）"
   ]
  },
  {
   "cell_type": "code",
   "execution_count": 10,
   "metadata": {},
   "outputs": [
    {
     "name": "stdout",
     "output_type": "stream",
     "text": [
      "3 4\n",
      "1 3 5 17\n",
      "2 4 2 3\n",
      "1 3 2 9\n",
      "['1 3 5 17', '2 4 2 3', '1 3 2 9']\n"
     ]
    }
   ],
   "source": [
    "from collections import deque\n",
    "N, K = map(int, input().split())\n",
    "T = [list(map(int, input().split())) for _ in range(N)]\n",
    "def solve(al, d):\n",
    "    if d == N:\n",
    "        ans = 0\n",
    "        for a in al:\n",
    "            ans = ans ^ a\n",
    "        if ans == 0:\n",
    "            print('Found')\n",
    "            quit()\n",
    "        else:\n",
    "            return\n",
    "    \n",
    "    for t in T[d]:\n",
    "        al.append(t)\n",
    "        solve(al, d+1)\n",
    "        al.pop()\n",
    "    return\n",
    "solve(deque(), 0)\n",
    "print('Nothing')\n"
   ]
  },
  {
   "cell_type": "code",
   "execution_count": null,
   "metadata": {},
   "outputs": [],
   "source": []
  }
 ],
 "metadata": {
  "kernelspec": {
   "display_name": "Python 3",
   "language": "python",
   "name": "python3"
  },
  "language_info": {
   "codemirror_mode": {
    "name": "ipython",
    "version": 3
   },
   "file_extension": ".py",
   "mimetype": "text/x-python",
   "name": "python",
   "nbconvert_exporter": "python",
   "pygments_lexer": "ipython3",
   "version": "3.6.4"
  }
 },
 "nbformat": 4,
 "nbformat_minor": 2
}
