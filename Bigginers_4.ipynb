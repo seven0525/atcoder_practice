{
 "cells": [
  {
   "cell_type": "markdown",
   "metadata": {},
   "source": [
    "# A - Fifty-Fifty"
   ]
  },
  {
   "cell_type": "code",
   "execution_count": 1,
   "metadata": {},
   "outputs": [
    {
     "name": "stdout",
     "output_type": "stream",
     "text": [
      "AFAF\n",
      "Yes\n"
     ]
    }
   ],
   "source": [
    "text = input()\n",
    "\n",
    "text_list = []\n",
    "\n",
    "for i in range(4):\n",
    "    if not text[i] in text_list:\n",
    "        text_list.append(text[i])\n",
    "\n",
    "\n",
    "if len(text_list) == 2:\n",
    "    print(\"Yes\")\n",
    "else:\n",
    "    print(\"No\")"
   ]
  },
  {
   "cell_type": "code",
   "execution_count": null,
   "metadata": {},
   "outputs": [],
   "source": []
  },
  {
   "cell_type": "markdown",
   "metadata": {},
   "source": [
    "# B - Ordinary Number"
   ]
  },
  {
   "cell_type": "code",
   "execution_count": 2,
   "metadata": {},
   "outputs": [
    {
     "name": "stdout",
     "output_type": "stream",
     "text": [
      "9\n",
      "9 6 3 2 5 8 7 4 1\n",
      "5\n"
     ]
    }
   ],
   "source": [
    "N = int(input())\n",
    "numbers = [list(map(int, input().split()))]\n",
    "\n",
    "numbers = numbers[0]\n",
    "\n",
    "count = 0\n",
    "\n",
    "\n",
    "for i in range(N-2):\n",
    "    aaa = []\n",
    "    number_a = int(numbers[i])\n",
    "    aaa.append(number_a)\n",
    "    number_b = int(numbers[i+1])\n",
    "    aaa.append(number_b)\n",
    "    number_c = int(numbers[i+2])\n",
    "    aaa.append(number_c)\n",
    "    if number_b == sorted(aaa)[-2]:\n",
    "        count += 1\n",
    "    else:\n",
    "        continue\n",
    "\n",
    "print(count)"
   ]
  },
  {
   "cell_type": "code",
   "execution_count": null,
   "metadata": {},
   "outputs": [],
   "source": []
  },
  {
   "cell_type": "markdown",
   "metadata": {},
   "source": [
    "# C - Divide the Problems"
   ]
  },
  {
   "cell_type": "code",
   "execution_count": 3,
   "metadata": {},
   "outputs": [
    {
     "name": "stdout",
     "output_type": "stream",
     "text": [
      "14\n",
      "99592 10342 29105 78532 83018 11639 92015 77204 30914 21912 34519 80835 100000 1\n",
      "55861.5\n",
      "77204\n",
      "34519\n",
      "42685\n"
     ]
    }
   ],
   "source": [
    "import statistics\n",
    "import math\n",
    "import numpy as np\n",
    "\n",
    "def getNearestValue(numbers, num):\n",
    "    idx = np.abs(np.asarray(numbers) - num).argmin()\n",
    "    for i in range(N):\n",
    "        near_number= numbers[np.argsort(np.abs(np.asarray(numbers) - num))[i]]\n",
    "        if near_number >= midian_number:\n",
    "            near_up_number = near_number\n",
    "            break\n",
    "        else:\n",
    "            continue\n",
    "    for j in range(N):\n",
    "        near_number= numbers[np.argsort(np.abs(np.asarray(numbers) - num))[j]]\n",
    "        if near_number <= midian_number:\n",
    "            near_under_number = near_number\n",
    "            break\n",
    "        else:\n",
    "            continue\n",
    "    return near_up_number, near_under_number\n",
    "        \n",
    "            \n",
    "\n",
    "\n",
    "N = int(input())\n",
    "numbers = [list(map(int, input().split()))]\n",
    "numbers = numbers[0]\n",
    "\n",
    "midian_number = statistics.median(numbers)\n",
    "print(midian_number)\n",
    "near_up_number, near_under_number = getNearestValue(numbers, midian_number)\n",
    "print(near_up_number)\n",
    "print(near_under_number)\n",
    "\n",
    "# if near_up_number - midian_number == 0:\n",
    "#     print(0)\n",
    "\n",
    "aaa = near_up_number - midian_number\n",
    "bbb = midian_number - near_under_number\n",
    "print(int(aaa + bbb))\n",
    "# print(near_up_number - midian_number )\n",
    "\n",
    "\n",
    "# if math.ceil(near_up_number - midian_number) == 0:\n",
    "#     print(0)\n",
    "# else:\n",
    "#     print(math.ceil(near_number - midian_number)+1)"
   ]
  },
  {
   "cell_type": "code",
   "execution_count": null,
   "metadata": {},
   "outputs": [],
   "source": []
  }
 ],
 "metadata": {
  "kernelspec": {
   "display_name": "Python 3",
   "language": "python",
   "name": "python3"
  },
  "language_info": {
   "codemirror_mode": {
    "name": "ipython",
    "version": 3
   },
   "file_extension": ".py",
   "mimetype": "text/x-python",
   "name": "python",
   "nbconvert_exporter": "python",
   "pygments_lexer": "ipython3",
   "version": "3.6.4"
  }
 },
 "nbformat": 4,
 "nbformat_minor": 2
}
