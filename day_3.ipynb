{
 "cells": [
  {
   "cell_type": "markdown",
   "metadata": {},
   "source": [
    "# 深さ優先探索\n",
    "https://atc001.contest.atcoder.jp/tasks/dfs_a"
   ]
  },
  {
   "cell_type": "code",
   "execution_count": 14,
   "metadata": {
    "scrolled": true
   },
   "outputs": [
    {
     "name": "stdout",
     "output_type": "stream",
     "text": [
      "4 4\n",
      "...s\n",
      "####\n",
      "....\n",
      "..g.\n",
      "No\n"
     ]
    }
   ],
   "source": [
    "import sys\n",
    "sys.setrecursionlimit(200000)\n",
    "judge = []\n",
    "answer = \"No\"\n",
    "\n",
    "\n",
    "H, W = map(int, input().split())\n",
    "maze = [list(map(str, input().split())) for _ in range(H)]\n",
    "\n",
    "def search(x,y, maze):\n",
    "    str_x = str(x)\n",
    "    str_y = str(y)\n",
    "    judge_number = str_x + str_y\n",
    "    if x < 0 or  y < 0:\n",
    "        return\n",
    "    elif x > H -1 or y > W-1:\n",
    "        return \n",
    "    elif maze[x][0][y] == \"#\":\n",
    "        return\n",
    "    elif  judge_number in judge:\n",
    "        return\n",
    "    elif maze[x][0][y] == \"g\":\n",
    "        answer = \"Yes\"\n",
    "        print(answer)\n",
    "        sys.exit()\n",
    "    else:\n",
    "        judge.append(judge_number)\n",
    "        search(x+1, y, maze)\n",
    "        search(x-1, y, maze)\n",
    "        search(x, y+1, maze)\n",
    "        search(x, y-1, maze)\n",
    "        \n",
    "        \n",
    "# \"S\"の座標を特定する\n",
    "for i in range(H):\n",
    "    for j in range(W):\n",
    "        if maze[i][0][j] == \"s\":\n",
    "            sx = i\n",
    "            sy = j\n",
    "\n",
    "\n",
    "search(sx, sy, maze)\n",
    "print(answer)"
   ]
  },
  {
   "cell_type": "code",
   "execution_count": null,
   "metadata": {},
   "outputs": [],
   "source": []
  },
  {
   "cell_type": "markdown",
   "metadata": {},
   "source": [
    "# Synthetic Kadomatsu\n",
    "https://atcoder.jp/contests/abc119/tasks/abc119_c"
   ]
  },
  {
   "cell_type": "code",
   "execution_count": 14,
   "metadata": {},
   "outputs": [
    {
     "name": "stdout",
     "output_type": "stream",
     "text": [
      "5 100 90 80\n",
      "98\n",
      "40\n",
      "30\n",
      "21\n",
      "80\n",
      "23\n"
     ]
    }
   ],
   "source": [
    "import math\n",
    "import sys\n",
    "import itertools\n",
    "import queue\n",
    "from fractions import gcd\n",
    " \n",
    "def lcm(a, b):\n",
    "    return a * b // gcd(a, b)\n",
    " \n",
    "mod = 1000000007\n",
    " \n",
    "if __name__ == \"__main__\":\n",
    "    N, A, B, C = map(int, input().split())\n",
    "    l = []\n",
    "    for i in range(N):\n",
    "        l.append(int((input())))\n",
    "    INF = 10 ** 9\n",
    " \n",
    "    def dfs(idx, a, b, c):\n",
    "        if idx == N:\n",
    "            # 初期値a,b,c = 0となっているため、一本目の竹についても合成された扱いになってしまっている\n",
    "            # したがって、実際はかかっていない合成コスト30を引いている\n",
    "            # a,b,cのうち少なくとも一本は必ず使われる設定になっているため、30を必ず引くような実装であっても問題はない\n",
    "            return abs(A - a) + abs(B - b) + abs(C - c) - 30 if min(a, b, c) > 0 else INF\n",
    "        # 一本あたりの竹について、合成しない、Aに合成、Bに合成、Cに合成の全てのパターンを以下で試行している\n",
    "        no_synth = dfs(idx + 1, a, b, c)\n",
    "        synth_A  = dfs(idx + 1, a + l[idx], b, c) + 10\n",
    "        synth_B  = dfs(idx + 1, a, b + l[idx], c) + 10\n",
    "        synth_C  = dfs(idx + 1, a, b, c + l[idx]) + 10\n",
    "        return min(no_synth, synth_A, synth_B, synth_C)\n",
    " \n",
    "    print(dfs(0,0,0,0))"
   ]
  },
  {
   "cell_type": "code",
   "execution_count": null,
   "metadata": {},
   "outputs": [],
   "source": []
  },
  {
   "cell_type": "markdown",
   "metadata": {},
   "source": [
    "# Anti-Division\n",
    "https://atcoder.jp/contests/abc131/tasks/abc131_c"
   ]
  },
  {
   "cell_type": "code",
   "execution_count": 26,
   "metadata": {},
   "outputs": [
    {
     "name": "stdout",
     "output_type": "stream",
     "text": [
      "4 9 2 3\n",
      "2\n"
     ]
    }
   ],
   "source": [
    " #最小公倍数\n",
    "import fractions\n",
    "\n",
    "\n",
    " \n",
    "\n",
    "A,B,C,D = map(int, input().split())\n",
    "lcm_number = C*D // fractions.gcd(C, D)\n",
    "all_number = B -A + 1\n",
    "\n",
    "answer_C = B // C - (A-1) // C\n",
    "answer_D = B // D - (A-1) // D\n",
    "answer_lcm = B // lcm_number - (A-1) // lcm_number\n",
    "\n",
    "print(all_number - answer_C - answer_D + answer_lcm)"
   ]
  },
  {
   "cell_type": "code",
   "execution_count": null,
   "metadata": {},
   "outputs": [],
   "source": []
  },
  {
   "cell_type": "code",
   "execution_count": null,
   "metadata": {},
   "outputs": [],
   "source": []
  },
  {
   "cell_type": "code",
   "execution_count": null,
   "metadata": {},
   "outputs": [],
   "source": []
  },
  {
   "cell_type": "code",
   "execution_count": null,
   "metadata": {},
   "outputs": [],
   "source": []
  },
  {
   "cell_type": "code",
   "execution_count": null,
   "metadata": {},
   "outputs": [],
   "source": []
  },
  {
   "cell_type": "code",
   "execution_count": null,
   "metadata": {},
   "outputs": [],
   "source": []
  }
 ],
 "metadata": {
  "kernelspec": {
   "display_name": "Python 3",
   "language": "python",
   "name": "python3"
  },
  "language_info": {
   "codemirror_mode": {
    "name": "ipython",
    "version": 3
   },
   "file_extension": ".py",
   "mimetype": "text/x-python",
   "name": "python",
   "nbconvert_exporter": "python",
   "pygments_lexer": "ipython3",
   "version": "3.6.4"
  }
 },
 "nbformat": 4,
 "nbformat_minor": 2
}
