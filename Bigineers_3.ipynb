{
 "cells": [
  {
   "cell_type": "code",
   "execution_count": 4,
   "metadata": {},
   "outputs": [
    {
     "name": "stdout",
     "output_type": "stream",
     "text": [
      "1234\n"
     ]
    }
   ],
   "source": [
    "sec_number = input()"
   ]
  },
  {
   "cell_type": "code",
   "execution_count": 5,
   "metadata": {},
   "outputs": [
    {
     "name": "stdout",
     "output_type": "stream",
     "text": [
      "1234\n"
     ]
    }
   ],
   "source": [
    "print(sec_number)"
   ]
  },
  {
   "cell_type": "code",
   "execution_count": 6,
   "metadata": {},
   "outputs": [
    {
     "data": {
      "text/plain": [
       "'1'"
      ]
     },
     "execution_count": 6,
     "metadata": {},
     "output_type": "execute_result"
    }
   ],
   "source": [
    "sec_number[0]"
   ]
  },
  {
   "cell_type": "code",
   "execution_count": null,
   "metadata": {},
   "outputs": [],
   "source": []
  },
  {
   "cell_type": "code",
   "execution_count": 33,
   "metadata": {},
   "outputs": [
    {
     "name": "stdout",
     "output_type": "stream",
     "text": [
      "30 -50\n",
      "-1044\n"
     ]
    }
   ],
   "source": [
    "apples =str(input())\n",
    "apples_list = apples.split(\" \")\n",
    "N = int(apples_list[0])\n",
    "L = int(apples_list[-1])\n",
    "pai_values = []\n",
    "\n",
    "for i in range(1,N+1):\n",
    "    pai_value = i + L -1\n",
    "    pai_values.append(pai_value)\n",
    "\n",
    "min_pai = abs(pai_values[0])\n",
    "\n",
    "for j in range(N):\n",
    "    if min_pai > abs(pai_values[j]):\n",
    "        min_pai = abs(pai_values[j])\n",
    "        target_number = j\n",
    "\n",
    "pai_values.pop(target_number)\n",
    "\n",
    "answer = sum(pai_values)\n"
   ]
  },
  {
   "cell_type": "code",
   "execution_count": 11,
   "metadata": {},
   "outputs": [
    {
     "name": "stdout",
     "output_type": "stream",
     "text": [
      "3\n",
      "<class 'str'>\n"
     ]
    }
   ],
   "source": [
    "print(apples[-1])"
   ]
  },
  {
   "cell_type": "code",
   "execution_count": null,
   "metadata": {},
   "outputs": [],
   "source": []
  },
  {
   "cell_type": "code",
   "execution_count": 39,
   "metadata": {},
   "outputs": [
    {
     "name": "stdout",
     "output_type": "stream",
     "text": [
      "4 9 2 3\n",
      "2\n"
     ]
    }
   ],
   "source": [
    "number =str(input())\n",
    "numbers = number.split(\" \")\n",
    "A = int(numbers[0])\n",
    "B = int(numbers[1])\n",
    "C = int(numbers[2])\n",
    "D = int(numbers[3])\n",
    "list_1 = []\n",
    "list_2 = []\n",
    "\n",
    "for i in range(A, B+1):\n",
    "    if i % C != 0:\n",
    "        list_1.append(i)\n",
    "for j in list_1:\n",
    "    if j % D != 0:\n",
    "        list_2.append(j)\n",
    "        \n",
    "print(len(list_2))\n",
    "        "
   ]
  },
  {
   "cell_type": "code",
   "execution_count": null,
   "metadata": {},
   "outputs": [],
   "source": []
  },
  {
   "cell_type": "code",
   "execution_count": 48,
   "metadata": {},
   "outputs": [
    {
     "name": "stdout",
     "output_type": "stream",
     "text": [
      "10 40 6 8\n",
      "23\n"
     ]
    }
   ],
   "source": [
    "# def gcd(a, b):\n",
    "#     while b:\n",
    "#         a, b = b, a % b\n",
    "#         return a\n",
    "# def lcm(a, b):\n",
    "#     return a * b // gcd (a, b)\n",
    "\n",
    "import math\n",
    "def lcm(x, y):\n",
    "    return (x * y) // math.gcd(x, y)\n",
    "\n",
    "\n",
    "number =str(input())\n",
    "numbers = number.split(\" \")\n",
    "A = int(numbers[0])\n",
    "B = int(numbers[1])\n",
    "C = int(numbers[2])\n",
    "D = int(numbers[3])\n",
    "\n",
    "number = B - A + 1\n",
    "\n",
    "answer_C = number // C\n",
    "\n",
    "answer_D = number // D\n",
    "\n",
    "answer_E = number // lcm(C,D)\n",
    "final_answer = number - answer_C - answer_D + answer_E\n",
    "print(int(final_answer))\n"
   ]
  },
  {
   "cell_type": "code",
   "execution_count": null,
   "metadata": {},
   "outputs": [],
   "source": []
  }
 ],
 "metadata": {
  "kernelspec": {
   "display_name": "Python 3",
   "language": "python",
   "name": "python3"
  },
  "language_info": {
   "codemirror_mode": {
    "name": "ipython",
    "version": 3
   },
   "file_extension": ".py",
   "mimetype": "text/x-python",
   "name": "python",
   "nbconvert_exporter": "python",
   "pygments_lexer": "ipython3",
   "version": "3.6.4"
  }
 },
 "nbformat": 4,
 "nbformat_minor": 2
}
