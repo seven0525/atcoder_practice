{
 "cells": [
  {
   "cell_type": "code",
   "execution_count": 1,
   "metadata": {},
   "outputs": [],
   "source": [
    "# A,B,C,D = map(int, input().split())\n",
    "# a = []\n",
    "# for i in range(N):\n",
    "#     a.append((input()))"
   ]
  },
  {
   "cell_type": "code",
   "execution_count": 14,
   "metadata": {},
   "outputs": [
    {
     "name": "stdout",
     "output_type": "stream",
     "text": [
      "4\n",
      "1 2 4 8\n"
     ]
    }
   ],
   "source": [
    "N = int(input())\n",
    "numbers = list(map(int, input().split())) "
   ]
  },
  {
   "cell_type": "code",
   "execution_count": 4,
   "metadata": {},
   "outputs": [
    {
     "data": {
      "text/plain": [
       "[1, 2, 3]"
      ]
     },
     "execution_count": 4,
     "metadata": {},
     "output_type": "execute_result"
    }
   ],
   "source": [
    "numbers"
   ]
  },
  {
   "cell_type": "code",
   "execution_count": null,
   "metadata": {},
   "outputs": [],
   "source": [
    "for i in numbers:\n",
    "    for j in numbers:\n",
    "        x = i ^ j\n",
    "        if x in numbers:\n",
    "            numbers.remove(i)\n",
    "            numbers.\n",
    "            \n",
    "    "
   ]
  },
  {
   "cell_type": "code",
   "execution_count": 17,
   "metadata": {},
   "outputs": [],
   "source": [
    "def foo(x,y, numbers):\n",
    "    answer = 0\n",
    "    if len(numbers) == 0:\n",
    "        answer = \"Yes\"\n",
    "        return answer\n",
    "    for i in numbers:\n",
    "        if x ^ i == y:\n",
    "            numbers.remove(x)\n",
    "            numbers.remove(y)\n",
    "            numbers.remove(i)\n",
    "            foo(y,i,numbers)\n",
    "        else:\n",
    "            continue\n",
    "    return answer"
   ]
  },
  {
   "cell_type": "code",
   "execution_count": 18,
   "metadata": {},
   "outputs": [
    {
     "data": {
      "text/plain": [
       "0"
      ]
     },
     "execution_count": 18,
     "metadata": {},
     "output_type": "execute_result"
    }
   ],
   "source": [
    "foo(1,2,numbers)"
   ]
  },
  {
   "cell_type": "code",
   "execution_count": null,
   "metadata": {},
   "outputs": [],
   "source": []
  },
  {
   "cell_type": "code",
   "execution_count": null,
   "metadata": {},
   "outputs": [],
   "source": []
  },
  {
   "cell_type": "code",
   "execution_count": null,
   "metadata": {
    "scrolled": true
   },
   "outputs": [],
   "source": [
    "import sys\n",
    "\n",
    "N = int(input())\n",
    "numbers = list(map(int, input().split())) \n",
    "numbers_2 = numbers\n",
    " \n",
    "def foo(x,y, numbers):\n",
    "    if x in numbers:\n",
    "        numbers.remove(x)\n",
    "    numbers.remove(y)\n",
    "    if len(numbers) == 0:\n",
    "        print(\"Yes\")\n",
    "        sys.exit()\n",
    "    for i in numbers:\n",
    "        if x ^ i == y:\n",
    "            foo(y,i,numbers)\n",
    "        else:\n",
    "            continue\n",
    "    print(\"No\")\n",
    "    sys.exit()\n",
    "    \n",
    "  \n",
    " \n",
    "for i in numbers_2:\n",
    "    for j in numbers_2:\n",
    "        if not numbers_2.index(i) == numbers_2.index(j):\n",
    "            foo(i,j,numbers_2)"
   ]
  },
  {
   "cell_type": "code",
   "execution_count": 1,
   "metadata": {},
   "outputs": [
    {
     "data": {
      "text/plain": [
       "1"
      ]
     },
     "execution_count": 1,
     "metadata": {},
     "output_type": "execute_result"
    }
   ],
   "source": [
    "1"
   ]
  },
  {
   "cell_type": "code",
   "execution_count": null,
   "metadata": {},
   "outputs": [],
   "source": []
  }
 ],
 "metadata": {
  "kernelspec": {
   "display_name": "Python 3",
   "language": "python",
   "name": "python3"
  },
  "language_info": {
   "codemirror_mode": {
    "name": "ipython",
    "version": 3
   },
   "file_extension": ".py",
   "mimetype": "text/x-python",
   "name": "python",
   "nbconvert_exporter": "python",
   "pygments_lexer": "ipython3",
   "version": "3.6.4"
  }
 },
 "nbformat": 4,
 "nbformat_minor": 2
}
