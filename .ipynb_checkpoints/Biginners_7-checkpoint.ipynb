{
 "cells": [
  {
   "cell_type": "code",
   "execution_count": 1,
   "metadata": {},
   "outputs": [],
   "source": [
    "# n=int(input())\n",
    "# a=list(map(int,input().split()))\n",
    "# b=list(map(int,input().split()))\n",
    "\n",
    "# A,B,C,D = map(int, input().split())\n",
    "# a = []\n",
    "# for i in range(N):\n",
    "#     a.append((input()))"
   ]
  },
  {
   "cell_type": "code",
   "execution_count": null,
   "metadata": {},
   "outputs": [],
   "source": []
  },
  {
   "cell_type": "code",
   "execution_count": 2,
   "metadata": {},
   "outputs": [
    {
     "name": "stdout",
     "output_type": "stream",
     "text": [
      "1 -33\n",
      "34\n"
     ]
    }
   ],
   "source": [
    "n = list(map(int,input().split()))\n",
    "a = n[0]\n",
    "b = n[1]\n",
    "\n",
    "a_1 = a + b\n",
    "a_2 = a * b\n",
    "a_3 = a - b\n",
    "\n",
    "print(max(a_1,a_2,a_3))"
   ]
  },
  {
   "cell_type": "code",
   "execution_count": 19,
   "metadata": {},
   "outputs": [
    {
     "name": "stdout",
     "output_type": "stream",
     "text": [
      "3 7\n",
      "5 6 7 8 9\n"
     ]
    }
   ],
   "source": [
    "n = list(map(int,input().split()))\n",
    "k = n[0]\n",
    "x = n[1]\n",
    "ans = []\n",
    "\n",
    "k_1 = k - 1\n",
    "\n",
    "for n in range(x-k_1,x+k_1+1):\n",
    "    n = str(n)\n",
    "    ans.append(n)\n",
    "\n",
    "aa = \" \".join(ans)    \n",
    "print(aa)\n"
   ]
  },
  {
   "cell_type": "code",
   "execution_count": 17,
   "metadata": {},
   "outputs": [
    {
     "data": {
      "text/plain": [
       "'5 6 7 8 9'"
      ]
     },
     "execution_count": 17,
     "metadata": {},
     "output_type": "execute_result"
    }
   ],
   "source": [
    "\" \".join(ans)"
   ]
  },
  {
   "cell_type": "code",
   "execution_count": 16,
   "metadata": {},
   "outputs": [
    {
     "data": {
      "text/plain": [
       "['5', '6', '7', '8', '9']"
      ]
     },
     "execution_count": 16,
     "metadata": {},
     "output_type": "execute_result"
    }
   ],
   "source": [
    "ans"
   ]
  },
  {
   "cell_type": "markdown",
   "metadata": {},
   "source": [
    "# C - Green Bin\n",
    "https://atcoder.jp/contests/abc137/tasks/abc137_c"
   ]
  },
  {
   "cell_type": "code",
   "execution_count": 34,
   "metadata": {},
   "outputs": [
    {
     "name": "stdout",
     "output_type": "stream",
     "text": [
      "5\n",
      "abaaaaaaaa\n",
      "oneplustwo\n",
      "aaaaaaaaba\n",
      "twoplusone\n",
      "aaaabaaaaa\n"
     ]
    }
   ],
   "source": [
    "N = int(input())\n",
    "texts = []\n",
    "for i in range(N):\n",
    "    texts.append((input()))"
   ]
  },
  {
   "cell_type": "markdown",
   "metadata": {},
   "source": [
    "## TLE"
   ]
  },
  {
   "cell_type": "code",
   "execution_count": 155,
   "metadata": {},
   "outputs": [
    {
     "name": "stdout",
     "output_type": "stream",
     "text": [
      "4\n"
     ]
    }
   ],
   "source": [
    "import collections\n",
    "\n",
    "counters = []\n",
    "count = 0\n",
    "for text in texts:\n",
    "    c = collections.Counter(text)\n",
    "    for t in counters:\n",
    "        if t == c:\n",
    "            count += 1\n",
    "    counters.append(c)\n",
    "print(count)\n"
   ]
  },
  {
   "cell_type": "markdown",
   "metadata": {},
   "source": [
    "## TLE（２回目）"
   ]
  },
  {
   "cell_type": "code",
   "execution_count": 156,
   "metadata": {},
   "outputs": [
    {
     "name": "stdout",
     "output_type": "stream",
     "text": [
      "4\n"
     ]
    }
   ],
   "source": [
    "counters = []\n",
    "count = 0\n",
    "for i in range(N):\n",
    "    for j in range(0,i-1):\n",
    "        if collections.Counter(texts[j]) == collections.Counter(texts[i]):\n",
    "            count += 1\n",
    "    else:\n",
    "        continue\n",
    "print(count)"
   ]
  },
  {
   "cell_type": "markdown",
   "metadata": {},
   "source": [
    "## TLE（3回目）"
   ]
  },
  {
   "cell_type": "code",
   "execution_count": 157,
   "metadata": {},
   "outputs": [
    {
     "name": "stdout",
     "output_type": "stream",
     "text": [
      "4\n"
     ]
    }
   ],
   "source": [
    "import collections\n",
    "\n",
    "counters = []\n",
    "count_dict = {}\n",
    "count = 0\n",
    "for text in texts:\n",
    "    text_list = list(text)\n",
    "    text_list.sort()\n",
    "    text = \"\".join(text_list) \n",
    "    \n",
    "    c = collections.Counter(text)\n",
    "    name = str(c)\n",
    "    if c in counters:\n",
    "        count_dict[name] += 1\n",
    "        \n",
    "        \n",
    "    else:\n",
    "        count_dict[name] = 1\n",
    "        counters.append(c)\n",
    "\n",
    "anss = []\n",
    "for v in count_dict.values():\n",
    "    ans = v * (v-1) / 2\n",
    "    anss.append(ans)\n",
    "    \n",
    "print(int(sum(anss)))\n"
   ]
  },
  {
   "cell_type": "markdown",
   "metadata": {},
   "source": [
    "## AC"
   ]
  },
  {
   "cell_type": "code",
   "execution_count": 158,
   "metadata": {},
   "outputs": [
    {
     "name": "stdout",
     "output_type": "stream",
     "text": [
      "4\n"
     ]
    }
   ],
   "source": [
    "import collections\n",
    "counters = []\n",
    "count = 0\n",
    "for text in texts:\n",
    "    text_list = list(text)\n",
    "    text_list.sort()\n",
    "    text = \"\".join(text_list) \n",
    "    c = collections.Counter(text)\n",
    "    counters.append(c)\n",
    "\n",
    "\n",
    "\n",
    "ccccc = []\n",
    "anss = []\n",
    "for ccc in counters:\n",
    "    ccc = str(ccc)\n",
    "    ccccc.append(ccc)\n",
    "    \n",
    "\n",
    "dd = collections.Counter(ccccc)\n",
    "for v in dd.values():\n",
    "    ans = v * (v-1) / 2\n",
    "    anss.append(ans)\n",
    "    \n",
    "print(int(sum(anss)))\n"
   ]
  },
  {
   "cell_type": "code",
   "execution_count": null,
   "metadata": {},
   "outputs": [],
   "source": []
  },
  {
   "cell_type": "code",
   "execution_count": null,
   "metadata": {},
   "outputs": [],
   "source": []
  },
  {
   "cell_type": "code",
   "execution_count": null,
   "metadata": {},
   "outputs": [],
   "source": []
  },
  {
   "cell_type": "code",
   "execution_count": null,
   "metadata": {},
   "outputs": [],
   "source": []
  }
 ],
 "metadata": {
  "kernelspec": {
   "display_name": "Python 3",
   "language": "python",
   "name": "python3"
  },
  "language_info": {
   "codemirror_mode": {
    "name": "ipython",
    "version": 3
   },
   "file_extension": ".py",
   "mimetype": "text/x-python",
   "name": "python",
   "nbconvert_exporter": "python",
   "pygments_lexer": "ipython3",
   "version": "3.6.4"
  }
 },
 "nbformat": 4,
 "nbformat_minor": 2
}
