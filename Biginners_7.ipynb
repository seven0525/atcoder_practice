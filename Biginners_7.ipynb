{
 "cells": [
  {
   "cell_type": "code",
   "execution_count": 1,
   "metadata": {},
   "outputs": [],
   "source": [
    "# n=int(input())\n",
    "# a=list(map(int,input().split()))\n",
    "# b=list(map(int,input().split()))\n",
    "\n",
    "# A,B,C,D = map(int, input().split())\n",
    "# a = []\n",
    "# for i in range(N):\n",
    "#     a.append((input()))"
   ]
  },
  {
   "cell_type": "code",
   "execution_count": null,
   "metadata": {},
   "outputs": [],
   "source": []
  },
  {
   "cell_type": "code",
   "execution_count": 2,
   "metadata": {},
   "outputs": [
    {
     "name": "stdout",
     "output_type": "stream",
     "text": [
      "1 -33\n",
      "34\n"
     ]
    }
   ],
   "source": [
    "n = list(map(int,input().split()))\n",
    "a = n[0]\n",
    "b = n[1]\n",
    "\n",
    "a_1 = a + b\n",
    "a_2 = a * b\n",
    "a_3 = a - b\n",
    "\n",
    "print(max(a_1,a_2,a_3))"
   ]
  },
  {
   "cell_type": "code",
   "execution_count": 19,
   "metadata": {},
   "outputs": [
    {
     "name": "stdout",
     "output_type": "stream",
     "text": [
      "3 7\n",
      "5 6 7 8 9\n"
     ]
    }
   ],
   "source": [
    "n = list(map(int,input().split()))\n",
    "k = n[0]\n",
    "x = n[1]\n",
    "ans = []\n",
    "\n",
    "k_1 = k - 1\n",
    "\n",
    "for n in range(x-k_1,x+k_1+1):\n",
    "    n = str(n)\n",
    "    ans.append(n)\n",
    "\n",
    "aa = \" \".join(ans)    \n",
    "print(aa)\n"
   ]
  },
  {
   "cell_type": "code",
   "execution_count": 17,
   "metadata": {},
   "outputs": [
    {
     "data": {
      "text/plain": [
       "'5 6 7 8 9'"
      ]
     },
     "execution_count": 17,
     "metadata": {},
     "output_type": "execute_result"
    }
   ],
   "source": [
    "\" \".join(ans)"
   ]
  },
  {
   "cell_type": "code",
   "execution_count": 16,
   "metadata": {},
   "outputs": [
    {
     "data": {
      "text/plain": [
       "['5', '6', '7', '8', '9']"
      ]
     },
     "execution_count": 16,
     "metadata": {},
     "output_type": "execute_result"
    }
   ],
   "source": [
    "ans"
   ]
  },
  {
   "cell_type": "markdown",
   "metadata": {},
   "source": [
    "# C - Green Bin\n",
    "https://atcoder.jp/contests/abc137/tasks/abc137_c"
   ]
  },
  {
   "cell_type": "code",
   "execution_count": 34,
   "metadata": {},
   "outputs": [
    {
     "name": "stdout",
     "output_type": "stream",
     "text": [
      "5\n",
      "abaaaaaaaa\n",
      "oneplustwo\n",
      "aaaaaaaaba\n",
      "twoplusone\n",
      "aaaabaaaaa\n"
     ]
    }
   ],
   "source": [
    "N = int(input())\n",
    "texts = []\n",
    "for i in range(N):\n",
    "    texts.append((input()))"
   ]
  },
  {
   "cell_type": "markdown",
   "metadata": {},
   "source": [
    "## TLE"
   ]
  },
  {
   "cell_type": "code",
   "execution_count": 155,
   "metadata": {},
   "outputs": [
    {
     "name": "stdout",
     "output_type": "stream",
     "text": [
      "4\n"
     ]
    }
   ],
   "source": [
    "import collections\n",
    "\n",
    "counters = []\n",
    "count = 0\n",
    "for text in texts:\n",
    "    c = collections.Counter(text)\n",
    "    for t in counters:\n",
    "        if t == c:\n",
    "            count += 1\n",
    "    counters.append(c)\n",
    "print(count)\n"
   ]
  },
  {
   "cell_type": "markdown",
   "metadata": {},
   "source": [
    "## TLE（２回目）"
   ]
  },
  {
   "cell_type": "code",
   "execution_count": 156,
   "metadata": {},
   "outputs": [
    {
     "name": "stdout",
     "output_type": "stream",
     "text": [
      "4\n"
     ]
    }
   ],
   "source": [
    "counters = []\n",
    "count = 0\n",
    "for i in range(N):\n",
    "    for j in range(0,i-1):\n",
    "        if collections.Counter(texts[j]) == collections.Counter(texts[i]):\n",
    "            count += 1\n",
    "    else:\n",
    "        continue\n",
    "print(count)"
   ]
  },
  {
   "cell_type": "markdown",
   "metadata": {},
   "source": [
    "## TLE（3回目）"
   ]
  },
  {
   "cell_type": "code",
   "execution_count": 157,
   "metadata": {},
   "outputs": [
    {
     "name": "stdout",
     "output_type": "stream",
     "text": [
      "4\n"
     ]
    }
   ],
   "source": [
    "import collections\n",
    "\n",
    "counters = []\n",
    "count_dict = {}\n",
    "count = 0\n",
    "for text in texts:\n",
    "    text_list = list(text)\n",
    "    text_list.sort()\n",
    "    text = \"\".join(text_list) \n",
    "    \n",
    "    c = collections.Counter(text)\n",
    "    name = str(c)\n",
    "    if c in counters:\n",
    "        count_dict[name] += 1\n",
    "        \n",
    "        \n",
    "    else:\n",
    "        count_dict[name] = 1\n",
    "        counters.append(c)\n",
    "\n",
    "anss = []\n",
    "for v in count_dict.values():\n",
    "    ans = v * (v-1) / 2\n",
    "    anss.append(ans)\n",
    "    \n",
    "print(int(sum(anss)))\n"
   ]
  },
  {
   "cell_type": "markdown",
   "metadata": {},
   "source": [
    "## AC"
   ]
  },
  {
   "cell_type": "code",
   "execution_count": 158,
   "metadata": {},
   "outputs": [
    {
     "name": "stdout",
     "output_type": "stream",
     "text": [
      "4\n"
     ]
    }
   ],
   "source": [
    "import collections\n",
    "counters = []\n",
    "count = 0\n",
    "for text in texts:\n",
    "    text_list = list(text)\n",
    "    text_list.sort()\n",
    "    text = \"\".join(text_list) \n",
    "    c = collections.Counter(text)\n",
    "    counters.append(c)\n",
    "\n",
    "\n",
    "\n",
    "ccccc = []\n",
    "anss = []\n",
    "for ccc in counters:\n",
    "    ccc = str(ccc)\n",
    "    ccccc.append(ccc)\n",
    "    \n",
    "\n",
    "dd = collections.Counter(ccccc)\n",
    "for v in dd.values():\n",
    "    ans = v * (v-1) / 2\n",
    "    anss.append(ans)\n",
    "    \n",
    "print(int(sum(anss)))\n"
   ]
  },
  {
   "cell_type": "code",
   "execution_count": null,
   "metadata": {},
   "outputs": [],
   "source": []
  },
  {
   "cell_type": "code",
   "execution_count": 10,
   "metadata": {},
   "outputs": [],
   "source": [
    "t = \"DULL\""
   ]
  },
  {
   "cell_type": "code",
   "execution_count": null,
   "metadata": {},
   "outputs": [],
   "source": [
    "奇数文字目がすべて R, U, D のいずれか。\n",
    "偶数文字目がすべて L, U, D のいずれか"
   ]
  },
  {
   "cell_type": "code",
   "execution_count": 4,
   "metadata": {},
   "outputs": [],
   "source": [
    "tl = t.split()"
   ]
  },
  {
   "cell_type": "code",
   "execution_count": 11,
   "metadata": {},
   "outputs": [
    {
     "name": "stdout",
     "output_type": "stream",
     "text": [
      "No\n"
     ]
    },
    {
     "ename": "SystemExit",
     "evalue": "",
     "output_type": "error",
     "traceback": [
      "An exception has occurred, use %tb to see the full traceback.\n",
      "\u001b[0;31mSystemExit\u001b[0m\n"
     ]
    },
    {
     "name": "stderr",
     "output_type": "stream",
     "text": [
      "/anaconda3/lib/python3.6/site-packages/IPython/core/interactiveshell.py:2918: UserWarning: To exit: use 'exit', 'quit', or Ctrl-D.\n",
      "  warn(\"To exit: use 'exit', 'quit', or Ctrl-D.\", stacklevel=1)\n"
     ]
    }
   ],
   "source": [
    "import  sys\n",
    "\n",
    "for i in range(len(t)):\n",
    "    if i % 2 == 0:\n",
    "        if t[i] == \"R\" or t[i] == \"U\" or t[i] == \"D\":\n",
    "            continue\n",
    "        else:\n",
    "            print(\"No\")\n",
    "            sys.exit()\n",
    "    else:\n",
    "        if  t[i] == \"L\" or t[i] == \"U\" or t[i] == \"D\":\n",
    "            continue\n",
    "        else:\n",
    "            print(\"No\")\n",
    "            sys.exit()\n",
    "print(\"Yes\")"
   ]
  },
  {
   "cell_type": "code",
   "execution_count": null,
   "metadata": {},
   "outputs": [],
   "source": []
  },
  {
   "cell_type": "code",
   "execution_count": 12,
   "metadata": {},
   "outputs": [
    {
     "name": "stdout",
     "output_type": "stream",
     "text": [
      "6 3 4\n"
     ]
    }
   ],
   "source": [
    "n,k,q = map(int, input().split())"
   ]
  },
  {
   "cell_type": "code",
   "execution_count": 16,
   "metadata": {},
   "outputs": [
    {
     "name": "stdout",
     "output_type": "stream",
     "text": [
      "3\n",
      "1\n",
      "3\n",
      "2\n"
     ]
    }
   ],
   "source": [
    "points = []\n",
    "for i in range(q):\n",
    "    points.append(int(input()))"
   ]
  },
  {
   "cell_type": "code",
   "execution_count": 17,
   "metadata": {},
   "outputs": [
    {
     "data": {
      "text/plain": [
       "[3, 1, 3, 2]"
      ]
     },
     "execution_count": 17,
     "metadata": {},
     "output_type": "execute_result"
    }
   ],
   "source": [
    "points"
   ]
  },
  {
   "cell_type": "code",
   "execution_count": 19,
   "metadata": {},
   "outputs": [],
   "source": [
    "scores = []\n",
    "for j in range(n):\n",
    "    scores.append(q)"
   ]
  },
  {
   "cell_type": "code",
   "execution_count": 20,
   "metadata": {},
   "outputs": [
    {
     "data": {
      "text/plain": [
       "[4, 4, 4, 4, 4, 4]"
      ]
     },
     "execution_count": 20,
     "metadata": {},
     "output_type": "execute_result"
    }
   ],
   "source": [
    "scores"
   ]
  },
  {
   "cell_type": "code",
   "execution_count": 23,
   "metadata": {},
   "outputs": [],
   "source": [
    "for p in points:\n",
    "    scores[p-1] = scores[p-1] - 1"
   ]
  },
  {
   "cell_type": "code",
   "execution_count": 24,
   "metadata": {},
   "outputs": [
    {
     "data": {
      "text/plain": [
       "[3, 3, 2, 4, 4, 4]"
      ]
     },
     "execution_count": 24,
     "metadata": {},
     "output_type": "execute_result"
    }
   ],
   "source": [
    "scores"
   ]
  },
  {
   "cell_type": "code",
   "execution_count": 25,
   "metadata": {},
   "outputs": [
    {
     "name": "stdout",
     "output_type": "stream",
     "text": [
      "No\n",
      "No\n",
      "Yes\n",
      "No\n",
      "No\n",
      "No\n"
     ]
    }
   ],
   "source": [
    "for s in scores:\n",
    "    if s <k:\n",
    "        print(\"Yes\")\n",
    "    else:\n",
    "        print(\"No\")"
   ]
  },
  {
   "cell_type": "code",
   "execution_count": null,
   "metadata": {},
   "outputs": [],
   "source": []
  },
  {
   "cell_type": "code",
   "execution_count": 49,
   "metadata": {},
   "outputs": [
    {
     "name": "stdout",
     "output_type": "stream",
     "text": [
      "4 4\n"
     ]
    }
   ],
   "source": [
    "n,m = map(int, input().split())"
   ]
  },
  {
   "cell_type": "code",
   "execution_count": 50,
   "metadata": {},
   "outputs": [
    {
     "name": "stdout",
     "output_type": "stream",
     "text": [
      "1 9 3 5\n"
     ]
    }
   ],
   "source": [
    "a_list = list(map(int,input().split()))"
   ]
  },
  {
   "cell_type": "code",
   "execution_count": null,
   "metadata": {},
   "outputs": [],
   "source": []
  },
  {
   "cell_type": "code",
   "execution_count": 38,
   "metadata": {},
   "outputs": [],
   "source": [
    "for i in range(m):\n",
    "    max_a = max(a_list)\n",
    "    new_a = max_a // 2\n",
    "    a_list.remove(max_a)\n",
    "    a_list.append(new_a)"
   ]
  },
  {
   "cell_type": "code",
   "execution_count": null,
   "metadata": {},
   "outputs": [],
   "source": []
  },
  {
   "cell_type": "code",
   "execution_count": null,
   "metadata": {},
   "outputs": [],
   "source": []
  },
  {
   "cell_type": "code",
   "execution_count": 52,
   "metadata": {},
   "outputs": [
    {
     "name": "stdout",
     "output_type": "stream",
     "text": [
      "6\n"
     ]
    }
   ],
   "source": [
    "count = 0\n",
    "\n",
    "if n == 1:\n",
    "    for i in range(m):\n",
    "        a_list[0] = a_list[0] // 2\n",
    "else:\n",
    "    while m>count:\n",
    "        a_list.sort(reverse=True)\n",
    "        a_list[0] = a_list[0] // 2\n",
    "        count += 1\n",
    "        if a_list[0] >= a_list[1]:\n",
    "            a_list[0] = a_list[0] // 2\n",
    "            count += 1\n",
    "print(sum(a_list))"
   ]
  },
  {
   "cell_type": "code",
   "execution_count": 42,
   "metadata": {},
   "outputs": [
    {
     "name": "stdout",
     "output_type": "stream",
     "text": [
      "6\n"
     ]
    }
   ],
   "source": []
  },
  {
   "cell_type": "code",
   "execution_count": null,
   "metadata": {},
   "outputs": [],
   "source": []
  },
  {
   "cell_type": "code",
   "execution_count": 43,
   "metadata": {},
   "outputs": [
    {
     "name": "stdout",
     "output_type": "stream",
     "text": [
      "5\n",
      "ababa\n"
     ]
    }
   ],
   "source": [
    "n = int(input())\n",
    "s = input()"
   ]
  },
  {
   "cell_type": "code",
   "execution_count": 48,
   "metadata": {},
   "outputs": [
    {
     "name": "stdout",
     "output_type": "stream",
     "text": [
      "2\n",
      "1\n"
     ]
    }
   ],
   "source": [
    "for i in reversed(range(1,n//2 +1)):\n",
    "    print(i)"
   ]
  },
  {
   "cell_type": "code",
   "execution_count": null,
   "metadata": {},
   "outputs": [],
   "source": []
  },
  {
   "cell_type": "code",
   "execution_count": null,
   "metadata": {},
   "outputs": [],
   "source": []
  }
 ],
 "metadata": {
  "kernelspec": {
   "display_name": "Python 3",
   "language": "python",
   "name": "python3"
  },
  "language_info": {
   "codemirror_mode": {
    "name": "ipython",
    "version": 3
   },
   "file_extension": ".py",
   "mimetype": "text/x-python",
   "name": "python",
   "nbconvert_exporter": "python",
   "pygments_lexer": "ipython3",
   "version": "3.6.4"
  }
 },
 "nbformat": 4,
 "nbformat_minor": 2
}
