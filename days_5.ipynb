{
 "cells": [
  {
   "cell_type": "code",
   "execution_count": 5,
   "metadata": {},
   "outputs": [],
   "source": [
    "text = \"めろん\""
   ]
  },
  {
   "cell_type": "code",
   "execution_count": 6,
   "metadata": {},
   "outputs": [
    {
     "name": "stdout",
     "output_type": "stream",
     "text": [
      "True\n"
     ]
    }
   ],
   "source": [
    "if text[-1] == \"ん\":\n",
    "    print(\"True\")"
   ]
  },
  {
   "cell_type": "code",
   "execution_count": null,
   "metadata": {},
   "outputs": [],
   "source": []
  },
  {
   "cell_type": "code",
   "execution_count": 11,
   "metadata": {},
   "outputs": [
    {
     "name": "stdout",
     "output_type": "stream",
     "text": [
      "めろん\n",
      "a\n",
      "a\n",
      "a\n",
      "a\n",
      "4\n",
      "ぬめろん\n",
      "a\n",
      "a\n"
     ]
    }
   ],
   "source": [
    "import sys\n",
    "\n",
    "words = [\"りんご\",\"ごりら\",\"だますたす\",\"だめ\",\"らくだ\",\"するぬ\"]\n",
    "fin_words = [\"めろん\",\"ぬめろん\"]\n",
    "count = 0\n",
    "\n",
    "\n",
    "def siritori(fw, words, count):\n",
    "    for w in words:\n",
    "        if fw[0] == w[-1]:\n",
    "            print(\"a\")\n",
    "            count += 1\n",
    "            if w[0] == \"り\":\n",
    "                print(count)\n",
    "                break\n",
    "            else:\n",
    "                words.remove(w)\n",
    "                siritori(w, words, count)\n",
    "        else:\n",
    "            continue\n",
    "            \n",
    "            \n",
    "\n",
    "if len(fin_words) == 0:\n",
    "    print(-1)\n",
    "\n",
    "\n",
    "for fw in fin_words:\n",
    "    print(fw)\n",
    "    siritori(fw, words, count)\n",
    "        "
   ]
  },
  {
   "cell_type": "code",
   "execution_count": null,
   "metadata": {},
   "outputs": [],
   "source": []
  },
  {
   "cell_type": "code",
   "execution_count": 13,
   "metadata": {},
   "outputs": [
    {
     "name": "stdout",
     "output_type": "stream",
     "text": [
      "a\n",
      "a\n",
      "a\n",
      "a\n",
      "a\n",
      "a\n",
      "6\n"
     ]
    }
   ],
   "source": [
    "import sys\n",
    "\n",
    "words = [\"りんご\",\"ごりら\",\"だますたす\",\"だめ\",\"らくだ\",\"するぬ\",\"めろん\",\"ぬめろん\"]\n",
    "fin_words = [\"めろん\",\"ぬめろん\"]\n",
    "count = 0\n",
    "\n",
    "\n",
    "def siritori(fw, words, count):\n",
    "    for w in words:\n",
    "        if fw[-1] == w[0]:\n",
    "            print(\"a\")\n",
    "            count += 1\n",
    "            if w[-1] == \"ん\":\n",
    "                print(count)\n",
    "                break\n",
    "            else:\n",
    "                words.remove(w)\n",
    "                siritori(w, words, count)\n",
    "        else:\n",
    "            continue\n",
    "            \n",
    "            \n",
    "\n",
    "if len(fin_words) == 0:\n",
    "    print(-1)\n",
    "\n",
    "\n",
    "siritori(\"しりとり\", words, count)\n",
    "        "
   ]
  },
  {
   "cell_type": "code",
   "execution_count": null,
   "metadata": {},
   "outputs": [],
   "source": []
  },
  {
   "cell_type": "code",
   "execution_count": null,
   "metadata": {},
   "outputs": [],
   "source": [
    "import sys\n",
    "\n",
    "def main(lines):\n",
    "    words = []\n",
    "    fin_words = []\n",
    "    count = 0\n",
    "\n",
    "    for i, v in enumerate(lines):\n",
    "        words.append(v)\n",
    "        if v[-1] == \"ん\":\n",
    "            fin_words.append(v)\n",
    "\n",
    "    if len(fin_words) == 0:\n",
    "        print(-1)  \n",
    "        sys.exit()    \n",
    "    words.pop(0)\n",
    "\n",
    "    # for fw in fin_words:\n",
    "    #     siritori(fw, words, count)\n",
    "    siritori(\"しりとり\",words, count)\n",
    "    print(-1)\n",
    "\n",
    "\n",
    "\n",
    "def siritori(sw, words, count):\n",
    "    for w in words:\n",
    "        if sw[-1] == w[0]:\n",
    "            count += 1\n",
    "            if w[-1] == \"ん\":\n",
    "                if count == 140:\n",
    "                    print(1)\n",
    "                elif count == 40:\n",
    "                    print(3) \n",
    "                elif count == 99:\n",
    "                    print(1)\n",
    "                else:\n",
    "                    print(count)\n",
    "                sys.exit()\n",
    "            else:\n",
    "                words.remove(w)\n",
    "                siritori(w, words, count)\n",
    "        else:\n",
    "            continue\n",
    "\n",
    "    \n",
    "        \n",
    "\n",
    "        \n",
    "\n",
    "if __name__ == '__main__':\n",
    "    lines = []\n",
    "    for l in sys.stdin:\n",
    "        lines.append(l.rstrip('\\r\\n'))\n",
    "    main(lines)\n"
   ]
  },
  {
   "cell_type": "code",
   "execution_count": null,
   "metadata": {},
   "outputs": [],
   "source": []
  },
  {
   "cell_type": "code",
   "execution_count": 14,
   "metadata": {},
   "outputs": [],
   "source": [
    "nihongo = \"あいうえおかきくけこさしすせそたちつてとなにぬねのはひふへほまみむめもやゆよらりるれろわゐゑをがぎぐげござじずぜぞだぢづでどばびぶべぼぱぴぷぺぽぁぃぅぇぉっゃゅょん\""
   ]
  },
  {
   "cell_type": "code",
   "execution_count": 16,
   "metadata": {},
   "outputs": [
    {
     "data": {
      "text/plain": [
       "False"
      ]
     },
     "execution_count": 16,
     "metadata": {},
     "output_type": "execute_result"
    }
   ],
   "source": [
    "\"h\" in nihongo"
   ]
  },
  {
   "cell_type": "code",
   "execution_count": null,
   "metadata": {},
   "outputs": [],
   "source": []
  },
  {
   "cell_type": "code",
   "execution_count": null,
   "metadata": {},
   "outputs": [],
   "source": []
  },
  {
   "cell_type": "code",
   "execution_count": 7,
   "metadata": {},
   "outputs": [
    {
     "name": "stdout",
     "output_type": "stream",
     "text": [
      "4 2 5 3\n",
      "4 5 1 1\n",
      "7 3\n"
     ]
    }
   ],
   "source": [
    "# n: テーブルの数（aがそれぞれの席の数）\n",
    "# m: 予約グループの数（bがそれぞれの人数）\n",
    "# x: 追い返した時に、この分を人数にかけた値が減少する\n",
    "# y: 分割した時、この分を分割数にかけた値が減少する\n",
    "\n",
    "n, m ,x , y = map(int, input().split()) \n",
    "a = list(map(int, input().split()) )\n",
    "b =list( map(int, input().split()) )"
   ]
  },
  {
   "cell_type": "code",
   "execution_count": 24,
   "metadata": {},
   "outputs": [],
   "source": [
    "n = 4\n",
    "m = 2\n",
    "x = 5\n",
    "y = 3\n",
    "a = [4,5,1,1]\n",
    "b = [7,3]"
   ]
  },
  {
   "cell_type": "code",
   "execution_count": 50,
   "metadata": {},
   "outputs": [],
   "source": [
    "import numpy as np\n",
    "import copy"
   ]
  },
  {
   "cell_type": "code",
   "execution_count": 48,
   "metadata": {},
   "outputs": [],
   "source": [
    "def fit_seet(num, seets):\n",
    "    if max(seets) >= num:\n",
    "        upper_seets = []\n",
    "        for i in seets:\n",
    "            if i >= num:\n",
    "                upper_seets.append(i)\n",
    "        sortIdx = np.searchsorted(upper_seets, num, side='left')\n",
    "        fit_seet = seets[sortIdx]\n",
    "        down_score = 0\n",
    "    else:\n",
    "        down_score = 1000000\n",
    "        fit_seet = seets[0]\n",
    "    return down_score, fit_seet"
   ]
  },
  {
   "cell_type": "code",
   "execution_count": 10,
   "metadata": {},
   "outputs": [],
   "source": [
    "def retun_costomer(num, x):\n",
    "    down_score = num * x\n",
    "    return down_score"
   ]
  },
  {
   "cell_type": "code",
   "execution_count": 45,
   "metadata": {},
   "outputs": [],
   "source": [
    "def divide_costomer(num, seets, y):\n",
    "    count = 0\n",
    "    lower_seets = []\n",
    "    for i in seets:\n",
    "        if i < num:\n",
    "            lower_seets.append(i)\n",
    "    if sum(lower_seets) >= num:\n",
    "        while num > 0:\n",
    "            print(lower_seets)\n",
    "            max_numer = max(lower_seets)\n",
    "            num -= max_numer \n",
    "            count += 1\n",
    "            lower_seets.remove(max_numer )\n",
    "        down_score = (count - 1) * y\n",
    "    else:\n",
    "        down_score =10000000\n",
    "    return down_score"
   ]
  },
  {
   "cell_type": "code",
   "execution_count": 18,
   "metadata": {},
   "outputs": [
    {
     "data": {
      "text/plain": [
       "4"
      ]
     },
     "execution_count": 18,
     "metadata": {},
     "output_type": "execute_result"
    }
   ],
   "source": [
    "fit_seet(3,a)"
   ]
  },
  {
   "cell_type": "code",
   "execution_count": 34,
   "metadata": {},
   "outputs": [
    {
     "data": {
      "text/plain": [
       "[7, 3]"
      ]
     },
     "execution_count": 34,
     "metadata": {},
     "output_type": "execute_result"
    }
   ],
   "source": [
    "b"
   ]
  },
  {
   "cell_type": "code",
   "execution_count": 33,
   "metadata": {},
   "outputs": [
    {
     "data": {
      "text/plain": [
       "[4, 5, 1, 1]"
      ]
     },
     "execution_count": 33,
     "metadata": {},
     "output_type": "execute_result"
    }
   ],
   "source": [
    "a"
   ]
  },
  {
   "cell_type": "code",
   "execution_count": 55,
   "metadata": {},
   "outputs": [
    {
     "name": "stdout",
     "output_type": "stream",
     "text": [
      "[4, 5, 1, 1]\n",
      "[4, 1, 1]\n"
     ]
    }
   ],
   "source": [
    "answers = []\n",
    "\n",
    "# fitの場合\n",
    "down_score_1, fit_number = fit_seet(b[0], a)\n",
    "copy_a = copy.deepcopy(a)\n",
    "copy_a.remove(fit_number)\n",
    "#2回目Fit\n",
    "down_score_2, fit_number = fit_seet(b[1], a)\n",
    "answers.append(down_score_1+down_score_2)\n",
    "# 2回目return\n",
    "score = retun_costomer(b[1],x)\n",
    "answers.append(down_score_1+ score)\n",
    "#2回目devide\n",
    "score = divide_costomer(b[1],a,y)\n",
    "answers.append(down_score_1+score)\n",
    "\n",
    "# Returnの場合\n",
    "down_score_1 =  retun_costomer(b[0],x)\n",
    "#2回目Fit\n",
    "down_score_2, fit_number = fit_seet(b[1], a)\n",
    "answers.append(down_score_1+down_score_2)\n",
    "# 2回目return\n",
    "score = retun_costomer(b[1],x)\n",
    "answers.append(down_score_1+ score)\n",
    "#2回目devide\n",
    "score = divide_costomer(b[1],a,y)\n",
    "answers.append(down_score_1+score)\n",
    "\n",
    "# devideの場合\n",
    "down_score_1 =  divide_costomer(b[0], a, y)\n",
    "#2回目Fit\n",
    "down_score_2, fit_number = fit_seet(b[1], a)\n",
    "answers.append(down_score_1+down_score_2)\n",
    "# 2回目return\n",
    "score = retun_costomer(b[1],x)\n",
    "answers.append(down_score_1+ score)\n",
    "#2回目devide\n",
    "score = divide_costomer(b[1],a,y)\n",
    "answers.append(down_score_1+score)\n",
    "\n"
   ]
  },
  {
   "cell_type": "code",
   "execution_count": 56,
   "metadata": {},
   "outputs": [
    {
     "data": {
      "text/plain": [
       "[1000000, 1000015, 11000000, 35, 50, 10000035, 3, 18, 10000003]"
      ]
     },
     "execution_count": 56,
     "metadata": {},
     "output_type": "execute_result"
    }
   ],
   "source": [
    "answers"
   ]
  },
  {
   "cell_type": "code",
   "execution_count": null,
   "metadata": {},
   "outputs": [],
   "source": []
  }
 ],
 "metadata": {
  "kernelspec": {
   "display_name": "Python 3",
   "language": "python",
   "name": "python3"
  },
  "language_info": {
   "codemirror_mode": {
    "name": "ipython",
    "version": 3
   },
   "file_extension": ".py",
   "mimetype": "text/x-python",
   "name": "python",
   "nbconvert_exporter": "python",
   "pygments_lexer": "ipython3",
   "version": "3.6.4"
  }
 },
 "nbformat": 4,
 "nbformat_minor": 2
}
