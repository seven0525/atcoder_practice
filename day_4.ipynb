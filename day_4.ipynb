{
 "cells": [
  {
   "cell_type": "code",
   "execution_count": null,
   "metadata": {},
   "outputs": [],
   "source": [
    "# A,B,C,D = map(int, input().split())\n",
    "# a = []\n",
    "# for i in range(N):\n",
    "#     a.append((input()))"
   ]
  },
  {
   "cell_type": "markdown",
   "metadata": {},
   "source": [
    "# C - Remainder Minimization 2019\n",
    "https://atcoder.jp/contests/abc133/tasks/abc133_c"
   ]
  },
  {
   "cell_type": "code",
   "execution_count": 1,
   "metadata": {},
   "outputs": [
    {
     "name": "stdout",
     "output_type": "stream",
     "text": [
      "2020 2040\n",
      "2\n"
     ]
    }
   ],
   "source": [
    "l, r = map(int, input().split())\n",
    "\n",
    "aaa = []\n",
    "\n",
    "if r - l >= 2019:\n",
    "    ans = 0\n",
    "else:\n",
    "    r_mod = r % 2019\n",
    "    l_mod = l % 2019\n",
    "    if l_mod > r_mod:\n",
    "        ans = 0\n",
    "    else:\n",
    "        for i in range(l_mod, r_mod+1):\n",
    "            for j in range(i+1, r_mod+1):\n",
    "                rl_mod = i * j % 2019 \n",
    "                aaa.append(rl_mod)\n",
    "        ans = min(aaa)\n",
    "\n",
    "print(ans)\n",
    "\n"
   ]
  },
  {
   "cell_type": "code",
   "execution_count": null,
   "metadata": {},
   "outputs": [],
   "source": []
  },
  {
   "cell_type": "markdown",
   "metadata": {},
   "source": [
    "# B - Five Dishes\n",
    "https://atcoder.jp/contests/abc123/tasks/abc123_b"
   ]
  },
  {
   "cell_type": "code",
   "execution_count": 16,
   "metadata": {},
   "outputs": [
    {
     "name": "stdout",
     "output_type": "stream",
     "text": [
      "20\n",
      "35\n",
      "120\n",
      "27\n",
      "17\n",
      "aaa\n",
      "[35, 120, 27, 17]\n",
      "[120, 27, 17]\n",
      "232\n"
     ]
    }
   ],
   "source": [
    "first_list = []\n",
    "for a in range(5):\n",
    "    first_list.append(int(input()))\n",
    "counts = []\n",
    "second_list = first_list \n",
    "\n",
    "\n",
    "\n",
    "for i in second_list:\n",
    "    print(\"aaa\")\n",
    "    count = i\n",
    "    i_mod = count % 10\n",
    "    count += i_mod\n",
    "    first_list.remove(i)\n",
    "    for j in first_list:\n",
    "        print(first_list)\n",
    "        count += j\n",
    "        j_mod = count % 10\n",
    "        count += j_mod\n",
    "        first_list.remove(j)\n",
    "        for h in first_list:\n",
    "            print(first_list)\n",
    "            count += h\n",
    "            h_mod = count % 10\n",
    "            count += h_mod\n",
    "            first_list.remove(h)\n",
    "            for k in first_list:\n",
    "                count += k\n",
    "                k_mod = count % 10\n",
    "                count += k_mod\n",
    "                first_list.remove(k)x\n",
    "                for l in first_list:\n",
    "                    count += l\n",
    "                    l_mod = count % 10\n",
    "                    count += l_mod\n",
    "                    counts.append(count)\n",
    "                    first_list = second_list\n",
    "\n",
    "print(min(counts))"
   ]
  },
  {
   "cell_type": "code",
   "execution_count": null,
   "metadata": {},
   "outputs": [],
   "source": []
  },
  {
   "cell_type": "code",
   "execution_count": 18,
   "metadata": {},
   "outputs": [
    {
     "name": "stdout",
     "output_type": "stream",
     "text": [
      "20\n",
      "27\n",
      "35\n",
      "17\n",
      "120\n",
      "225\n"
     ]
    }
   ],
   "source": [
    "a = int(input())\n",
    "b = int(input())\n",
    "c = int(input())\n",
    "d = int(input())\n",
    "e = int(input())\n",
    " \n",
    "l = [a, b, c, d, e]\n",
    "s = []\n",
    " \n",
    "for i in l:\n",
    "    if i % 10 > 0:\n",
    "        s.append(10 - (i % 10))\n",
    "if len(s) > 0:\n",
    "    s.sort()\n",
    "    del s[-1]\n",
    " \n",
    "ans = sum(l) + sum(s)\n",
    "print(ans)"
   ]
  },
  {
   "cell_type": "markdown",
   "metadata": {},
   "source": [
    "# B - Palace\n",
    "https://atcoder.jp/contests/abc113/tasks/abc113_b"
   ]
  },
  {
   "cell_type": "code",
   "execution_count": 24,
   "metadata": {},
   "outputs": [
    {
     "name": "stdout",
     "output_type": "stream",
     "text": [
      "3\n",
      "12 5\n",
      "1000 2000\n",
      "1\n"
     ]
    }
   ],
   "source": [
    "N = int(input())\n",
    "T, A = map(int, input().split())\n",
    "a = list(map(int, input().split()))\n",
    "\n",
    "answers = []\n",
    "\n",
    "for j in a:\n",
    "  a_2 = T - j * 0.006\n",
    "  answer = abs(A - a_2)\n",
    "  answers.append(answer)\n",
    "\n",
    "min_answer = min(answers)\n",
    "index_number = answers.index(min_answer)\n",
    "print(index_number +1)\n",
    "  "
   ]
  },
  {
   "cell_type": "code",
   "execution_count": null,
   "metadata": {},
   "outputs": [],
   "source": []
  }
 ],
 "metadata": {
  "kernelspec": {
   "display_name": "Python 3",
   "language": "python",
   "name": "python3"
  },
  "language_info": {
   "codemirror_mode": {
    "name": "ipython",
    "version": 3
   },
   "file_extension": ".py",
   "mimetype": "text/x-python",
   "name": "python",
   "nbconvert_exporter": "python",
   "pygments_lexer": "ipython3",
   "version": "3.6.4"
  }
 },
 "nbformat": 4,
 "nbformat_minor": 2
}
